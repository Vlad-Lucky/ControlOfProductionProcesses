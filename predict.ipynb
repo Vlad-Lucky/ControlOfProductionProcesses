{
  "cells": [
    {
      "cell_type": "markdown",
      "metadata": {
        "id": "fKvVoVyDXBSK"
      },
      "source": [
        "# Установка библиотек"
      ]
    },
    {
      "cell_type": "code",
      "source": [
        "!pip install catboost"
      ],
      "metadata": {
        "colab": {
          "base_uri": "https://localhost:8080/"
        },
        "id": "UC2DvgrRpKx9",
        "outputId": "afc65b39-be07-4662-aa79-328f862886fd"
      },
      "execution_count": 1,
      "outputs": [
        {
          "output_type": "stream",
          "name": "stdout",
          "text": [
            "Looking in indexes: https://pypi.org/simple, https://us-python.pkg.dev/colab-wheels/public/simple/\n",
            "Requirement already satisfied: catboost in /usr/local/lib/python3.7/dist-packages (1.0.6)\n",
            "Requirement already satisfied: graphviz in /usr/local/lib/python3.7/dist-packages (from catboost) (0.10.1)\n",
            "Requirement already satisfied: matplotlib in /usr/local/lib/python3.7/dist-packages (from catboost) (3.2.2)\n",
            "Requirement already satisfied: pandas>=0.24.0 in /usr/local/lib/python3.7/dist-packages (from catboost) (1.3.5)\n",
            "Requirement already satisfied: plotly in /usr/local/lib/python3.7/dist-packages (from catboost) (5.5.0)\n",
            "Requirement already satisfied: six in /usr/local/lib/python3.7/dist-packages (from catboost) (1.15.0)\n",
            "Requirement already satisfied: numpy>=1.16.0 in /usr/local/lib/python3.7/dist-packages (from catboost) (1.21.6)\n",
            "Requirement already satisfied: scipy in /usr/local/lib/python3.7/dist-packages (from catboost) (1.7.3)\n",
            "Requirement already satisfied: python-dateutil>=2.7.3 in /usr/local/lib/python3.7/dist-packages (from pandas>=0.24.0->catboost) (2.8.2)\n",
            "Requirement already satisfied: pytz>=2017.3 in /usr/local/lib/python3.7/dist-packages (from pandas>=0.24.0->catboost) (2022.2.1)\n",
            "Requirement already satisfied: cycler>=0.10 in /usr/local/lib/python3.7/dist-packages (from matplotlib->catboost) (0.11.0)\n",
            "Requirement already satisfied: kiwisolver>=1.0.1 in /usr/local/lib/python3.7/dist-packages (from matplotlib->catboost) (1.4.4)\n",
            "Requirement already satisfied: pyparsing!=2.0.4,!=2.1.2,!=2.1.6,>=2.0.1 in /usr/local/lib/python3.7/dist-packages (from matplotlib->catboost) (3.0.9)\n",
            "Requirement already satisfied: typing-extensions in /usr/local/lib/python3.7/dist-packages (from kiwisolver>=1.0.1->matplotlib->catboost) (4.1.1)\n",
            "Requirement already satisfied: tenacity>=6.2.0 in /usr/local/lib/python3.7/dist-packages (from plotly->catboost) (8.0.1)\n"
          ]
        }
      ]
    },
    {
      "cell_type": "markdown",
      "metadata": {
        "id": "u5tdY_ayPnTX"
      },
      "source": [
        "## Загрузим необоходимые библиотеки"
      ]
    },
    {
      "cell_type": "code",
      "execution_count": 2,
      "metadata": {
        "id": "mosraooMKk-o"
      },
      "outputs": [],
      "source": [
        "from imutils.video import VideoStream\n",
        "from imutils.video import FPS\n",
        "import numpy as np\n",
        "import argparse\n",
        "import imutils\n",
        "from sklearn.metrics import classification_report, recall_score, accuracy_score\n",
        "import time\n",
        "import cv2\n",
        "import matplotlib.pyplot as plt \n",
        "import pandas as pd\n",
        "import seaborn as sns\n",
        "import matplotlib.pyplot as plt\n",
        "import numpy as np\n",
        "from PIL import Image\n",
        "import os\n",
        "from tqdm.notebook import tqdm\n",
        "import logging\n",
        "import pickle\n",
        "import datetime\n",
        "import torch\n",
        "import torch.nn as nn\n",
        "import torch.optim as optim\n",
        "from torch.optim import lr_scheduler\n",
        "import torchvision\n",
        "from torchvision import datasets, models, transforms\n",
        "import subprocess as sp\n",
        "from torch.utils.data import Dataset, DataLoader\n",
        "import copy\n",
        "from functools import lru_cache\n",
        "from sklearn.model_selection import train_test_split\n",
        "import catboost as cb\n",
        "from PIL import ImageFilter, ImageChops"
      ]
    },
    {
      "cell_type": "code",
      "execution_count": 3,
      "metadata": {
        "colab": {
          "base_uri": "https://localhost:8080/"
        },
        "id": "QLy9XtEbXl9m",
        "outputId": "57257a40-f10d-4e36-b619-757759017642"
      },
      "outputs": [
        {
          "output_type": "stream",
          "name": "stdout",
          "text": [
            "Mounted at /content/drive\n"
          ]
        }
      ],
      "source": [
        "from google.colab import drive\n",
        "drive.mount('/content/drive', force_remount=True)"
      ]
    },
    {
      "cell_type": "code",
      "execution_count": 4,
      "metadata": {
        "id": "ZSjjkBQ2Xkrc"
      },
      "outputs": [],
      "source": [
        "WORKING_DIR = '/content/drive/MyDrive/ai/video_surveillance/'\n",
        "FRAME_DATA_FILE = os.path.join(WORKING_DIR, 'datasets/frame_data.pkl')\n",
        "PEOPLE_DATA_FILE = os.path.join(WORKING_DIR, 'datasets/people_data.pkl')\n",
        "# http://zulko.github.io/blog/2013/09/27/read-and-write-video-frames-in-python-using-ffmpeg/\n",
        "FFMPEG_BIN = \"ffmpeg\"\n",
        "DEVICE = torch.device(\"cuda\" if torch.cuda.is_available() else \"cpu\")"
      ]
    },
    {
      "cell_type": "markdown",
      "metadata": {
        "id": "H5-NZTdPDwfk"
      },
      "source": [
        "# Обработка csv датасета"
      ]
    },
    {
      "cell_type": "code",
      "execution_count": 5,
      "metadata": {
        "id": "SPTgsoi7D0W0"
      },
      "outputs": [],
      "source": [
        "train_base_df = pd.read_csv(os.path.join(WORKING_DIR, 'datasets/train/train.csv'))\n",
        "test_base_df = pd.read_csv(os.path.join(WORKING_DIR, 'datasets/test/test.csv'))"
      ]
    },
    {
      "cell_type": "code",
      "source": [
        "test_base_df['dataset'] = 'test/test_fast.mp4'"
      ],
      "metadata": {
        "id": "No1_dKpb_pA-"
      },
      "execution_count": 6,
      "outputs": []
    },
    {
      "cell_type": "code",
      "source": [
        "indexes_2027 = train_base_df[train_base_df['date'].str.contains('2027-')].index\n",
        "for i in indexes_2027:\n",
        "    train_base_df.at[i, 'date'] = '2022' + train_base_df.at[i, 'date'][4:]"
      ],
      "metadata": {
        "id": "-wxksnq6DU-j"
      },
      "execution_count": 7,
      "outputs": []
    },
    {
      "cell_type": "code",
      "source": [
        "train_base_df['employee'] = train_base_df['employee'].replace(10, 9).replace(11, 10)"
      ],
      "metadata": {
        "id": "fuJLpqK0DWOh"
      },
      "execution_count": 8,
      "outputs": []
    },
    {
      "cell_type": "markdown",
      "source": [
        "# Инициализация кэшированной даты"
      ],
      "metadata": {
        "id": "PAcwsABeFJZI"
      }
    },
    {
      "cell_type": "code",
      "source": [
        "frame_data = pickle.load(open(FRAME_DATA_FILE, 'rb'))\n",
        "people_data = pickle.load(open(PEOPLE_DATA_FILE, 'rb'))"
      ],
      "metadata": {
        "id": "-0vTYYz-iURJ"
      },
      "execution_count": 9,
      "outputs": []
    },
    {
      "cell_type": "markdown",
      "source": [
        "# Предсказание для тестовой выборки"
      ],
      "metadata": {
        "id": "Ovgest1Dzxyh"
      }
    },
    {
      "cell_type": "code",
      "source": [
        "model_action = cb.CatBoostClassifier()\n",
        "model_door = cb.CatBoostClassifier()"
      ],
      "metadata": {
        "id": "BB2DT1uL5Jmi"
      },
      "execution_count": 10,
      "outputs": []
    },
    {
      "cell_type": "code",
      "source": [
        "model_door = model_door.load_model(os.path.join(WORKING_DIR, 'model_door.cb'))\n",
        "model_action = model_action.load_model(os.path.join(WORKING_DIR, 'model_action.cb'))"
      ],
      "metadata": {
        "id": "rKQ-eOYD4wAJ"
      },
      "execution_count": 11,
      "outputs": []
    },
    {
      "cell_type": "code",
      "source": [
        "max_n_people = 26\n",
        "actions = []\n",
        "for i in range(len(test_base_df)):\n",
        "    row = test_base_df.iloc[i]\n",
        "    dataset = row['dataset']\n",
        "    date = row['date']\n",
        "    actions.append(0)\n",
        "    if date not in frame_data[dataset].values():\n",
        "        continue\n",
        "    from_frame_i = min([frame_i for frame_i, date_ in frame_data[dataset].items() if date == date_])\n",
        "    if from_frame_i - 10 >= 0:\n",
        "        from_frame_i -= 10\n",
        "    else:\n",
        "        from_frame_i = 0\n",
        "    to_frame_i = max([frame_i for frame_i, date_ in frame_data[dataset].items() if date == date_]) + 5\n",
        "    if to_frame_i + 5 <= max(frame_data[dataset]):\n",
        "        to_frame_i += 5\n",
        "    else:\n",
        "        to_frame_i = max(frame_data[dataset])\n",
        "    n_people = []\n",
        "    for frame_i in range(from_frame_i, to_frame_i + 1):\n",
        "        if frame_i not in people_data[dataset]:\n",
        "            n_people.append(0)\n",
        "            continue\n",
        "        annotations = people_data[dataset][frame_i]\n",
        "        n_people.append(len(annotations))\n",
        "    n_people = n_people[:max_n_people]\n",
        "    for j in range(len(n_people) - 2):\n",
        "        if n_people[j] != n_people[j + 1] and n_people[j] == n_people[j + 2]:\n",
        "            n_people[j + 1] = n_people[j]\n",
        "    \n",
        "    predictig_n_people = n_people.copy()\n",
        "    predictig_n_people.extend([0] * (max_n_people - len(n_people)))\n",
        "    action = model_action.predict(predictig_n_people) * 10\n",
        "    \n",
        "    mid_i = len(n_people) // 2\n",
        "    if action == 10:\n",
        "        # список индексов, где появляется человек до центра\n",
        "        to_middle = []\n",
        "        for human_i in range(1, mid_i + 1):\n",
        "            if n_people[human_i] > n_people[human_i - 1]:\n",
        "                to_middle.append(human_i)\n",
        "        if not any(to_middle):\n",
        "            for human_i in range(mid_i + 1, len(n_people)):\n",
        "                if n_people[human_i] > n_people[human_i - 1]:\n",
        "                    to_middle.append(human_i)\n",
        "            if not any(to_middle):\n",
        "                continue\n",
        "            human_i = min(to_middle)\n",
        "        else:\n",
        "            human_i = max(to_middle)\n",
        "    else:\n",
        "        # список индексов, где исчезает за дверью человек до центра\n",
        "        to_middle = []\n",
        "        for human_i in range(mid_i + 1, len(n_people)):\n",
        "            if n_people[human_i] < n_people[human_i - 1]:\n",
        "                to_middle.append(human_i)\n",
        "        if not any(to_middle):\n",
        "            for human_i in range(1, mid_i + 1):\n",
        "                if n_people[human_i] < n_people[human_i - 1]:\n",
        "                    to_middle.append(human_i)\n",
        "            if not any(to_middle):\n",
        "                continue\n",
        "            human_i = max(to_middle)\n",
        "        else:\n",
        "            human_i = min(to_middle)\n",
        "    \n",
        "    cheking_n_people = n_people[human_i - 1:human_i + 1]\n",
        "    if abs(cheking_n_people[0] - cheking_n_people[1]) != 1:\n",
        "        continue\n",
        "    if 0 in cheking_n_people and 1 in cheking_n_people:\n",
        "        if action == 10:\n",
        "            frame_i = from_frame_i + human_i\n",
        "        else:\n",
        "            frame_i = from_frame_i + human_i - 1\n",
        "        annotation = people_data[dataset][frame_i][0]\n",
        "    else:\n",
        "        if action == 10:\n",
        "            frame_i = from_frame_i + human_i\n",
        "            annotations1 = people_data[dataset][frame_i - 1]\n",
        "            annotations2 = people_data[dataset][frame_i]\n",
        "        else:\n",
        "            frame_i = from_frame_i + human_i - 1\n",
        "            annotations1 = people_data[dataset][frame_i + 1]\n",
        "            annotations2 = people_data[dataset][frame_i]\n",
        "        center_annotation1 = [[annotation[0] + (annotation[2] - annotation[0]) // 2,\n",
        "                               annotation[1] + (annotation[3] - annotation[1]) // 2]\n",
        "                              for annotation in annotations1]\n",
        "        center_annotation2 = [[annotation[0] + (annotation[2] - annotation[0]) // 2,\n",
        "                               annotation[1] + (annotation[3] - annotation[1]) // 2]\n",
        "                              for annotation in annotations2]\n",
        "        for annotation1 in center_annotation1:\n",
        "            len_to_center = []\n",
        "            for annotation2 in center_annotation2:\n",
        "                len_to_center.append(((annotation1[0] - annotation2[0]) ** 2 + (annotation1[1] - annotation2[1]) ** 2) ** 0.5)\n",
        "            del_i = len_to_center.index(min(len_to_center))\n",
        "            del annotations2[del_i]\n",
        "            del center_annotation2[del_i]\n",
        "        if len(center_annotation2) != 1:\n",
        "            continue\n",
        "        annotation = annotations2[0]\n",
        "    \n",
        "    action += int(model_door.predict(annotation))\n",
        "    actions[-1] = action"
      ],
      "metadata": {
        "id": "YoM-srcB5tw2"
      },
      "execution_count": 12,
      "outputs": []
    },
    {
      "cell_type": "code",
      "source": [
        "test_base_df['action'] = actions\n",
        "test_base_df['employee'] = 0"
      ],
      "metadata": {
        "id": "HLrOu0Ln-Hpn"
      },
      "execution_count": 13,
      "outputs": []
    },
    {
      "cell_type": "code",
      "source": [
        "for n in range(1, 10):\n",
        "    value_counts = train_base_df[train_base_df['action'].isin([n, n + 10])]['employee'].value_counts()\n",
        "    if not any(value_counts.index):\n",
        "        continue\n",
        "    max_employee = value_counts.index[0]\n",
        "    test_base_df.loc[test_base_df['action'].isin([n, n + 10]), 'employee'] = max_employee"
      ],
      "metadata": {
        "id": "RdnM7zePvabD"
      },
      "execution_count": 14,
      "outputs": []
    },
    {
      "cell_type": "code",
      "source": [
        "test_base_df.drop(columns=['dataset', 'date']).to_csv('out.csv', index=False)"
      ],
      "metadata": {
        "id": "vizITy95BJUG"
      },
      "execution_count": 15,
      "outputs": []
    }
  ],
  "metadata": {
    "colab": {
      "collapsed_sections": [
        "jq72qkNkpDi5",
        "vWjBnm25I7Rx",
        "F1yXKpoM6KCL",
        "n0a7cdb3uRmq",
        "3Kbc_bi1DcFO",
        "R9p6UKTjDerf",
        "H5-NZTdPDwfk",
        "QSAytVT1Exg6"
      ],
      "provenance": []
    },
    "gpuClass": "standard",
    "kernelspec": {
      "display_name": "Python 3 (ipykernel)",
      "language": "python",
      "name": "python3"
    },
    "language_info": {
      "codemirror_mode": {
        "name": "ipython",
        "version": 3
      },
      "file_extension": ".py",
      "mimetype": "text/x-python",
      "name": "python",
      "nbconvert_exporter": "python",
      "pygments_lexer": "ipython3",
      "version": "3.10.3"
    }
  },
  "nbformat": 4,
  "nbformat_minor": 0
}