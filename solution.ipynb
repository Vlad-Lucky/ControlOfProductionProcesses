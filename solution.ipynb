{
  "cells": [
    {
      "cell_type": "markdown",
      "metadata": {
        "id": "fKvVoVyDXBSK"
      },
      "source": [
        "# Установка библиотек"
      ]
    },
    {
      "cell_type": "code",
      "execution_count": null,
      "metadata": {
        "id": "WjsqMACyeSrx"
      },
      "outputs": [],
      "source": [
        "!pip install easyocr"
      ]
    },
    {
      "cell_type": "code",
      "source": [
        "!pip install catboost"
      ],
      "metadata": {
        "colab": {
          "base_uri": "https://localhost:8080/"
        },
        "id": "UC2DvgrRpKx9",
        "outputId": "8e01156e-9e9c-4888-9dbd-7cbd33c23956"
      },
      "execution_count": null,
      "outputs": [
        {
          "output_type": "stream",
          "name": "stdout",
          "text": [
            "Looking in indexes: https://pypi.org/simple, https://us-python.pkg.dev/colab-wheels/public/simple/\n",
            "Collecting catboost\n",
            "  Downloading catboost-1.0.6-cp37-none-manylinux1_x86_64.whl (76.6 MB)\n",
            "\u001b[K     |████████████████████████████████| 76.6 MB 1.1 MB/s \n",
            "\u001b[?25hRequirement already satisfied: matplotlib in /usr/local/lib/python3.7/dist-packages (from catboost) (3.2.2)\n",
            "Requirement already satisfied: graphviz in /usr/local/lib/python3.7/dist-packages (from catboost) (0.10.1)\n",
            "Requirement already satisfied: six in /usr/local/lib/python3.7/dist-packages (from catboost) (1.15.0)\n",
            "Requirement already satisfied: scipy in /usr/local/lib/python3.7/dist-packages (from catboost) (1.7.3)\n",
            "Requirement already satisfied: numpy>=1.16.0 in /usr/local/lib/python3.7/dist-packages (from catboost) (1.21.6)\n",
            "Requirement already satisfied: pandas>=0.24.0 in /usr/local/lib/python3.7/dist-packages (from catboost) (1.3.5)\n",
            "Requirement already satisfied: plotly in /usr/local/lib/python3.7/dist-packages (from catboost) (5.5.0)\n",
            "Requirement already satisfied: pytz>=2017.3 in /usr/local/lib/python3.7/dist-packages (from pandas>=0.24.0->catboost) (2022.2.1)\n",
            "Requirement already satisfied: python-dateutil>=2.7.3 in /usr/local/lib/python3.7/dist-packages (from pandas>=0.24.0->catboost) (2.8.2)\n",
            "Requirement already satisfied: cycler>=0.10 in /usr/local/lib/python3.7/dist-packages (from matplotlib->catboost) (0.11.0)\n",
            "Requirement already satisfied: pyparsing!=2.0.4,!=2.1.2,!=2.1.6,>=2.0.1 in /usr/local/lib/python3.7/dist-packages (from matplotlib->catboost) (3.0.9)\n",
            "Requirement already satisfied: kiwisolver>=1.0.1 in /usr/local/lib/python3.7/dist-packages (from matplotlib->catboost) (1.4.4)\n",
            "Requirement already satisfied: typing-extensions in /usr/local/lib/python3.7/dist-packages (from kiwisolver>=1.0.1->matplotlib->catboost) (4.1.1)\n",
            "Requirement already satisfied: tenacity>=6.2.0 in /usr/local/lib/python3.7/dist-packages (from plotly->catboost) (8.0.1)\n",
            "Installing collected packages: catboost\n",
            "Successfully installed catboost-1.0.6\n"
          ]
        }
      ]
    },
    {
      "cell_type": "markdown",
      "metadata": {
        "id": "u5tdY_ayPnTX"
      },
      "source": [
        "## Загрузим необоходимые библиотеки"
      ]
    },
    {
      "cell_type": "code",
      "execution_count": null,
      "metadata": {
        "id": "mosraooMKk-o"
      },
      "outputs": [],
      "source": [
        "from imutils.video import VideoStream\n",
        "from imutils.video import FPS\n",
        "import numpy as np\n",
        "import argparse\n",
        "import imutils\n",
        "from sklearn.metrics import classification_report, recall_score, accuracy_score\n",
        "import time\n",
        "import cv2\n",
        "import matplotlib.pyplot as plt \n",
        "import pandas as pd\n",
        "import seaborn as sns\n",
        "import matplotlib.pyplot as plt\n",
        "import numpy as np\n",
        "from PIL import Image\n",
        "import os\n",
        "from tqdm.notebook import tqdm\n",
        "import logging\n",
        "import pickle\n",
        "import datetime\n",
        "import torch\n",
        "import torch.nn as nn\n",
        "import torch.optim as optim\n",
        "from torch.optim import lr_scheduler\n",
        "import torchvision\n",
        "from torchvision import datasets, models, transforms\n",
        "import subprocess as sp\n",
        "from torch.utils.data import Dataset, DataLoader\n",
        "import copy\n",
        "from functools import lru_cache\n",
        "from sklearn.model_selection import train_test_split\n",
        "import catboost as cb\n",
        "from PIL import ImageFilter, ImageChops"
      ]
    },
    {
      "cell_type": "code",
      "execution_count": null,
      "metadata": {
        "colab": {
          "base_uri": "https://localhost:8080/"
        },
        "id": "QLy9XtEbXl9m",
        "outputId": "e734ca7b-9f82-4e66-f171-bdaf2269d1a0"
      },
      "outputs": [
        {
          "output_type": "stream",
          "name": "stdout",
          "text": [
            "Mounted at /content/drive\n"
          ]
        }
      ],
      "source": [
        "from google.colab import drive\n",
        "drive.mount('/content/drive', force_remount=True)"
      ]
    },
    {
      "cell_type": "code",
      "execution_count": null,
      "metadata": {
        "id": "ZSjjkBQ2Xkrc"
      },
      "outputs": [],
      "source": [
        "WORKING_DIR = '/content/drive/MyDrive/ai/video_surveillance/'\n",
        "FRAME_DATA_FILE = os.path.join(WORKING_DIR, 'datasets/frame_data.pkl')\n",
        "PEOPLE_DATA_FILE = os.path.join(WORKING_DIR, 'datasets/people_data.pkl')\n",
        "# http://zulko.github.io/blog/2013/09/27/read-and-write-video-frames-in-python-using-ffmpeg/\n",
        "FFMPEG_BIN = \"ffmpeg\"\n",
        "DEVICE = torch.device(\"cuda\" if torch.cuda.is_available() else \"cpu\")"
      ]
    },
    {
      "cell_type": "code",
      "execution_count": null,
      "metadata": {
        "id": "PlKQ84fMAgbg"
      },
      "outputs": [],
      "source": [
        "!ffmpeg -y -i {os.path.join(WORKING_DIR, 'datasets/train/train1.avi')} -filter:v \"setpts=0.1*PTS\" {os.path.join(WORKING_DIR, 'datasets/train/train1_fast.mp4')}\n",
        "!ffmpeg -y -i {os.path.join(WORKING_DIR, 'datasets/train/train2.avi')} -filter:v \"setpts=0.1*PTS\" {os.path.join(WORKING_DIR, 'datasets/train/train2_fast.mp4')}\n",
        "!ffmpeg -y -i {os.path.join(WORKING_DIR, 'datasets/test/test.avi')} -filter:v \"setpts=0.1*PTS\" {os.path.join(WORKING_DIR, 'datasets/test/test_fast.mp4')}"
      ]
    },
    {
      "cell_type": "code",
      "execution_count": null,
      "metadata": {
        "id": "IT7d0kUAO7Zn"
      },
      "outputs": [],
      "source": [
        "!ffmpeg -y -i {os.path.join(WORKING_DIR, 'datasets/train/train1_fast.mp4')} -filter:v \"crop=750:100:0:100\" {os.path.join(WORKING_DIR, 'datasets/train/train1_fast_date.mp4')}\n",
        "!ffmpeg -y -i {os.path.join(WORKING_DIR, 'datasets/train/train2_fast.mp4')} -filter:v \"crop=570:70:0:50\" {os.path.join(WORKING_DIR, 'datasets/train/train2_fast_date.mp4')}\n",
        "!ffmpeg -y -i {os.path.join(WORKING_DIR, 'datasets/test/test_fast.mp4')} -filter:v \"crop=570:70:0:50\" {os.path.join(WORKING_DIR, 'datasets/train/test_fast_date.mp4')}"
      ]
    },
    {
      "cell_type": "code",
      "execution_count": null,
      "metadata": {
        "colab": {
          "base_uri": "https://localhost:8080/"
        },
        "id": "miootLV08Ip9",
        "outputId": "6c8086cc-4fdf-4cc1-e94f-d4d4367f45d7"
      },
      "outputs": [
        {
          "name": "stdout",
          "output_type": "stream",
          "text": [
            "79168\n",
            "120211\n",
            "74760\n"
          ]
        }
      ],
      "source": [
        "!ffprobe -v error -select_streams v:0 -count_packets -show_entries stream=nb_read_packets -of csv=p=0 {os.path.join(WORKING_DIR, 'datasets/train/train1_fast.mp4')}\n",
        "!ffprobe -v error -select_streams v:0 -count_packets -show_entries stream=nb_read_packets -of csv=p=0 {os.path.join(WORKING_DIR, 'datasets/train/train2_fast.mp4')}\n",
        "!ffprobe -v error -select_streams v:0 -count_packets -show_entries stream=nb_read_packets -of csv=p=0 {os.path.join(WORKING_DIR, 'datasets/test/test_fast.mp4')}"
      ]
    },
    {
      "cell_type": "code",
      "execution_count": null,
      "metadata": {
        "colab": {
          "base_uri": "https://localhost:8080/"
        },
        "id": "BWng0x7zsAr7",
        "outputId": "d6624a4d-80e1-4537-850e-3a755f6911fd"
      },
      "outputs": [
        {
          "name": "stdout",
          "output_type": "stream",
          "text": [
            "79168\n",
            "120211\n",
            "74760\n"
          ]
        }
      ],
      "source": [
        "!ffprobe -v error -select_streams v:0 -count_packets -show_entries stream=nb_read_packets -of csv=p=0 {os.path.join(WORKING_DIR, 'datasets/train/train1_fast_date.mp4')}\n",
        "!ffprobe -v error -select_streams v:0 -count_packets -show_entries stream=nb_read_packets -of csv=p=0 {os.path.join(WORKING_DIR, 'datasets/train/train2_fast_date.mp4')}\n",
        "!ffprobe -v error -select_streams v:0 -count_packets -show_entries stream=nb_read_packets -of csv=p=0 {os.path.join(WORKING_DIR, 'datasets/test/test_fast_date.mp4')}"
      ]
    },
    {
      "cell_type": "markdown",
      "metadata": {
        "id": "jq72qkNkpDi5"
      },
      "source": [
        "# Присвоение каждой секунде кадра соответствующее время"
      ]
    },
    {
      "cell_type": "code",
      "execution_count": null,
      "metadata": {
        "id": "aHO1Q2EZQn09"
      },
      "outputs": [],
      "source": [
        "datasets_videos_fast = {'train/train1_fast.mp4': [79168, [2560, 1920]], \n",
        "                        'train/train2_fast.mp4': [120211, [1920, 1080]], \n",
        "                        'test/test_fast.mp4': [74760, [1920, 1080]]\n",
        "                        }\n",
        "datasets_videos_fast_date = {'train/train1_fast_date.mp4': [79168, [750, 100], [[0, 0, 340, 100], [460, 0, 750, 100]]], \n",
        "                             'train/train2_fast_date.mp4': [120211, [570, 70], [[0, 0, 250, 70], [350, 0, 570, 70]]], \n",
        "                             'test/test_fast_date.mp4': [74760, [570, 70], [[0, 0, 250, 70], [350, 0, 570, 70]]]\n",
        "                             }"
      ]
    },
    {
      "cell_type": "code",
      "execution_count": null,
      "metadata": {
        "colab": {
          "base_uri": "https://localhost:8080/"
        },
        "id": "ryiD04zoM6mu",
        "outputId": "851690ec-3add-44c0-b5ab-d59219cafba8"
      },
      "outputs": [
        {
          "name": "stderr",
          "output_type": "stream",
          "text": [
            "WARNING:easyocr.easyocr:Downloading detection model, please wait. This may take several minutes depending upon your network connection.\n"
          ]
        },
        {
          "name": "stdout",
          "output_type": "stream",
          "text": [
            "Progress: |██████████████████████████████████████████████████| 100.0% Complete"
          ]
        },
        {
          "name": "stderr",
          "output_type": "stream",
          "text": [
            "WARNING:easyocr.easyocr:Downloading recognition model, please wait. This may take several minutes depending upon your network connection.\n"
          ]
        },
        {
          "name": "stdout",
          "output_type": "stream",
          "text": [
            "Progress: |██████████████████████████████████████████████████| 100.0% Complete"
          ]
        }
      ],
      "source": [
        "from easyocr import Reader\n",
        "reader = Reader(['en'], gpu=True)"
      ]
    },
    {
      "cell_type": "code",
      "execution_count": null,
      "metadata": {
        "id": "l-M5fU8Ov-kP"
      },
      "outputs": [],
      "source": [
        "frame_data = {}\n",
        "\n",
        "for dataset, (frames_count, size_img, rects) in datasets_videos_fast_date.items():\n",
        "    if dataset not in frame_data:\n",
        "        frame_data[dataset] = {}\n",
        "    command = [ FFMPEG_BIN,\n",
        "            '-i', os.path.join(WORKING_DIR, f'datasets/{dataset}'),\n",
        "            '-f', 'image2pipe',\n",
        "            '-pix_fmt', 'rgb24',\n",
        "            '-vcodec', 'rawvideo', '-']\n",
        "    pipe = sp.Popen(command, stdout=sp.PIPE)\n",
        "    for frame_i in tqdm(range(frames_count)):\n",
        "        raw_frame = pipe.stdout.read(size_img[0] * size_img[1] * 3)\n",
        "        #frame = np.fromstring(raw_frame, dtype='uint8')\n",
        "        frame = np.frombuffer(raw_frame, dtype='uint8')\n",
        "        if not any(frame):\n",
        "            break\n",
        "        frame = frame.reshape((size_img[1], size_img[0], 3))\n",
        "\n",
        "        x1, y1, x2, y2 = rects[0]\n",
        "        frame_date = frame[y1:y2, x1:x2]\n",
        "        x1, y1, x2, y2 = rects[1]\n",
        "        frame_time = frame[y1:y2, x1:x2]\n",
        "\n",
        "        frame_date = cv2.cvtColor(frame_date, cv2.COLOR_RGB2BGR)\n",
        "        frame_time = cv2.cvtColor(frame_time, cv2.COLOR_RGB2BGR)\n",
        "\n",
        "        gray = cv2.cvtColor(frame_date, cv2.COLOR_BGR2GRAY)\n",
        "        frame_date = cv2.GaussianBlur(gray, (7, 7), 0)\n",
        "        gray = cv2.cvtColor(frame_time, cv2.COLOR_BGR2GRAY)\n",
        "        frame_time = cv2.GaussianBlur(gray, (7, 7), 0)\n",
        "\n",
        "        txt_date = reader.readtext(frame_date)\n",
        "        txt_time = reader.readtext(frame_time)\n",
        "        if len(txt_date) == 1 and len(txt_time) == 1:\n",
        "            txt_date = txt_date[0][1].replace('Q', '0').replace('O', '0')\n",
        "            txt_time = txt_time[0][1].replace('Q', '0').replace('O', '0')\n",
        "        else:\n",
        "            txt_date = ''\n",
        "            txt_time = ''\n",
        "\n",
        "        frame_data[dataset][frame_i] = [txt_date, txt_time]\n",
        "\n",
        "        if frame_i % 1000 == 0:\n",
        "            pickle.dump(frame_data, open(FRAME_DATA_FILE, 'wb'))\n",
        "    pickle.dump(frame_data, open(FRAME_DATA_FILE, 'wb'))"
      ]
    },
    {
      "cell_type": "markdown",
      "metadata": {
        "id": "vWjBnm25I7Rx"
      },
      "source": [
        "# Постобработка frame_data"
      ]
    },
    {
      "cell_type": "code",
      "execution_count": null,
      "metadata": {
        "id": "6Zja6NQJI_Eh"
      },
      "outputs": [],
      "source": [
        "frame_data = pickle.load(open(FRAME_DATA_FILE, 'rb'))"
      ]
    },
    {
      "cell_type": "code",
      "execution_count": null,
      "metadata": {
        "id": "Q0yJfAmNI_op"
      },
      "outputs": [],
      "source": [
        "for dates_data in frame_data.values():\n",
        "    for frame_i, date_data in list(dates_data.items()):\n",
        "        date, time = date_data\n",
        "        date = ''.join([elem for elem in date if elem in '01234567890'])\n",
        "        time = ''.join([elem for elem in time if elem in '01234567890'])\n",
        "        if len(date) != 8 or len(time) != 6:\n",
        "            del dates_data[frame_i]\n",
        "            continue\n",
        "        date = f'{date[4:].replace(\"2027\", \"2022\")}-{date[:2]}-{date[2:4]}'\n",
        "        time = f'{time[:2]}:{time[2:4]}:{time[4:]}'\n",
        "        dates_data[frame_i] = ' '.join([date, time])"
      ]
    },
    {
      "cell_type": "code",
      "execution_count": null,
      "metadata": {
        "id": "ILAwJoGBIvl5"
      },
      "outputs": [],
      "source": [
        "frame_data['train/train1_fast.mp4'] = frame_data['train/train1_fast_date.mp4']\n",
        "frame_data['train/train2_fast.mp4'] = frame_data['train/train2_fast_date.mp4']\n",
        "frame_data['test/test_fast.mp4'] = frame_data['test/test_fast_date.mp4']"
      ]
    },
    {
      "cell_type": "code",
      "execution_count": null,
      "metadata": {
        "id": "v8CK5jZFK3QA"
      },
      "outputs": [],
      "source": [
        "del frame_data['train/train1_fast_date.mp4']\n",
        "del frame_data['train/train2_fast_date.mp4']\n",
        "del frame_data['test/test_fast_date.mp4']"
      ]
    },
    {
      "cell_type": "code",
      "execution_count": null,
      "metadata": {
        "id": "2oH8mzSuJ8by"
      },
      "outputs": [],
      "source": [
        "pickle.dump(frame_data, open(FRAME_DATA_FILE, 'wb'))"
      ]
    },
    {
      "cell_type": "markdown",
      "metadata": {
        "id": "F1yXKpoM6KCL"
      },
      "source": [
        "# Немного поздновато решил уменьшить качество train1 (надо было раньше)"
      ]
    },
    {
      "cell_type": "code",
      "execution_count": null,
      "metadata": {
        "id": "Iggtshww6PS6"
      },
      "outputs": [],
      "source": [
        "!ffmpeg -y -i {os.path.join(WORKING_DIR, 'datasets/train/train1_fast.mp4')} -vf scale=1920:1080 {os.path.join(WORKING_DIR, 'datasets/train/train1_resized_fast.mp4')}"
      ]
    },
    {
      "cell_type": "code",
      "execution_count": null,
      "metadata": {
        "id": "dx7A3aXiTh0D"
      },
      "outputs": [],
      "source": [
        "frame_data = pickle.load(open(FRAME_DATA_FILE, 'rb'))\n",
        "frame_data['train/train1_resized_fast.mp4'] = frame_data['train/train1_fast.mp4']\n",
        "del frame_data['train/train1_fast.mp4']\n",
        "pickle.dump(frame_data, open(FRAME_DATA_FILE, 'wb'))"
      ]
    },
    {
      "cell_type": "markdown",
      "metadata": {
        "id": "n0a7cdb3uRmq"
      },
      "source": [
        "# Предсказание для картинок"
      ]
    },
    {
      "cell_type": "code",
      "execution_count": null,
      "metadata": {
        "id": "jhdzkqsjVekh"
      },
      "outputs": [],
      "source": [
        "datasets_videos_fast = {'train/train1_resized_fast.mp4': [79168, [1920, 1080]], \n",
        "                        'train/train2_fast.mp4': [120211, [1920, 1080]], \n",
        "                        'test/test_fast.mp4': [74760, [1920, 1080]]\n",
        "                        }"
      ]
    },
    {
      "cell_type": "code",
      "execution_count": null,
      "metadata": {
        "id": "UJCLFSAOuVVv"
      },
      "outputs": [],
      "source": [
        "model = torch.hub.load('ultralytics/yolov5', 'custom', path=os.path.join(WORKING_DIR, 'yolo_human_detect.pt'))\n",
        "model.classes = [0]\n",
        "model.conf = 0.3"
      ]
    },
    {
      "cell_type": "code",
      "execution_count": null,
      "metadata": {
        "id": "msV3azoLwwwV"
      },
      "outputs": [],
      "source": [
        "people_data = pickle.load(open(os.path.join(WORKING_DIR, 'datasets/people_data.pkl'), 'rb'))\n",
        "\n",
        "for dataset, (frames_count, size_img) in datasets_videos_fast.items():\n",
        "    if dataset not in people_data:\n",
        "        people_data[dataset] = {}\n",
        "    command = [FFMPEG_BIN,\n",
        "            '-i', os.path.join(WORKING_DIR, f'datasets/{dataset}'),\n",
        "            '-f', 'image2pipe',\n",
        "            '-pix_fmt', 'rgb24',\n",
        "            '-vcodec', 'rawvideo', '-']\n",
        "    pipe = sp.Popen(command, stdout=sp.PIPE)\n",
        "    for frame_i in tqdm(range(frames_count)):\n",
        "        raw_frame = pipe.stdout.read(size_img[0] * size_img[1] * 3)\n",
        "        frame = np.frombuffer(raw_frame, dtype='uint8')\n",
        "        if frame_i in people_data[dataset]:\n",
        "            continue\n",
        "        #print('a')\n",
        "        if not any(frame):\n",
        "            break\n",
        "        frame = frame.reshape((size_img[1], size_img[0], 3))\n",
        "\n",
        "        preds = model(frame).xyxy[0]\n",
        "\n",
        "        if preds.any():\n",
        "            people_data[dataset][frame_i] = preds.tolist()\n",
        "\n",
        "        if frame_i % 1000 == 0:\n",
        "            pickle.dump(people_data, open(PEOPLE_DATA_FILE, 'wb'))\n",
        "    pickle.dump(people_data, open(PEOPLE_DATA_FILE, 'wb'))"
      ]
    },
    {
      "cell_type": "markdown",
      "metadata": {
        "id": "H5-NZTdPDwfk"
      },
      "source": [
        "# Обработка csv датасета"
      ]
    },
    {
      "cell_type": "code",
      "execution_count": null,
      "metadata": {
        "id": "SPTgsoi7D0W0"
      },
      "outputs": [],
      "source": [
        "train_base_df = pd.read_csv(os.path.join(WORKING_DIR, 'datasets/train/train.csv'))\n",
        "test_base_df = pd.read_csv(os.path.join(WORKING_DIR, 'datasets/test/test.csv'))"
      ]
    },
    {
      "cell_type": "code",
      "execution_count": null,
      "metadata": {
        "colab": {
          "base_uri": "https://localhost:8080/"
        },
        "id": "sJ2N_qXUD02v",
        "outputId": "d541f9c0-eccf-497e-8e00-f4693319c238"
      },
      "outputs": [
        {
          "output_type": "execute_result",
          "data": {
            "text/plain": [
              "       id                 date  employee  action\n",
              "563  1819  2022-05-25 01:11:34         0    10.0\n",
              "572  1828  2022-05-25 01:55:12         0    10.0"
            ],
            "text/html": [
              "\n",
              "  <div id=\"df-f417077a-4494-4654-bd2c-0602e766b040\">\n",
              "    <div class=\"colab-df-container\">\n",
              "      <div>\n",
              "<style scoped>\n",
              "    .dataframe tbody tr th:only-of-type {\n",
              "        vertical-align: middle;\n",
              "    }\n",
              "\n",
              "    .dataframe tbody tr th {\n",
              "        vertical-align: top;\n",
              "    }\n",
              "\n",
              "    .dataframe thead th {\n",
              "        text-align: right;\n",
              "    }\n",
              "</style>\n",
              "<table border=\"1\" class=\"dataframe\">\n",
              "  <thead>\n",
              "    <tr style=\"text-align: right;\">\n",
              "      <th></th>\n",
              "      <th>id</th>\n",
              "      <th>date</th>\n",
              "      <th>employee</th>\n",
              "      <th>action</th>\n",
              "    </tr>\n",
              "  </thead>\n",
              "  <tbody>\n",
              "    <tr>\n",
              "      <th>563</th>\n",
              "      <td>1819</td>\n",
              "      <td>2022-05-25 01:11:34</td>\n",
              "      <td>0</td>\n",
              "      <td>10.0</td>\n",
              "    </tr>\n",
              "    <tr>\n",
              "      <th>572</th>\n",
              "      <td>1828</td>\n",
              "      <td>2022-05-25 01:55:12</td>\n",
              "      <td>0</td>\n",
              "      <td>10.0</td>\n",
              "    </tr>\n",
              "  </tbody>\n",
              "</table>\n",
              "</div>\n",
              "      <button class=\"colab-df-convert\" onclick=\"convertToInteractive('df-f417077a-4494-4654-bd2c-0602e766b040')\"\n",
              "              title=\"Convert this dataframe to an interactive table.\"\n",
              "              style=\"display:none;\">\n",
              "        \n",
              "  <svg xmlns=\"http://www.w3.org/2000/svg\" height=\"24px\"viewBox=\"0 0 24 24\"\n",
              "       width=\"24px\">\n",
              "    <path d=\"M0 0h24v24H0V0z\" fill=\"none\"/>\n",
              "    <path d=\"M18.56 5.44l.94 2.06.94-2.06 2.06-.94-2.06-.94-.94-2.06-.94 2.06-2.06.94zm-11 1L8.5 8.5l.94-2.06 2.06-.94-2.06-.94L8.5 2.5l-.94 2.06-2.06.94zm10 10l.94 2.06.94-2.06 2.06-.94-2.06-.94-.94-2.06-.94 2.06-2.06.94z\"/><path d=\"M17.41 7.96l-1.37-1.37c-.4-.4-.92-.59-1.43-.59-.52 0-1.04.2-1.43.59L10.3 9.45l-7.72 7.72c-.78.78-.78 2.05 0 2.83L4 21.41c.39.39.9.59 1.41.59.51 0 1.02-.2 1.41-.59l7.78-7.78 2.81-2.81c.8-.78.8-2.07 0-2.86zM5.41 20L4 18.59l7.72-7.72 1.47 1.35L5.41 20z\"/>\n",
              "  </svg>\n",
              "      </button>\n",
              "      \n",
              "  <style>\n",
              "    .colab-df-container {\n",
              "      display:flex;\n",
              "      flex-wrap:wrap;\n",
              "      gap: 12px;\n",
              "    }\n",
              "\n",
              "    .colab-df-convert {\n",
              "      background-color: #E8F0FE;\n",
              "      border: none;\n",
              "      border-radius: 50%;\n",
              "      cursor: pointer;\n",
              "      display: none;\n",
              "      fill: #1967D2;\n",
              "      height: 32px;\n",
              "      padding: 0 0 0 0;\n",
              "      width: 32px;\n",
              "    }\n",
              "\n",
              "    .colab-df-convert:hover {\n",
              "      background-color: #E2EBFA;\n",
              "      box-shadow: 0px 1px 2px rgba(60, 64, 67, 0.3), 0px 1px 3px 1px rgba(60, 64, 67, 0.15);\n",
              "      fill: #174EA6;\n",
              "    }\n",
              "\n",
              "    [theme=dark] .colab-df-convert {\n",
              "      background-color: #3B4455;\n",
              "      fill: #D2E3FC;\n",
              "    }\n",
              "\n",
              "    [theme=dark] .colab-df-convert:hover {\n",
              "      background-color: #434B5C;\n",
              "      box-shadow: 0px 1px 3px 1px rgba(0, 0, 0, 0.15);\n",
              "      filter: drop-shadow(0px 1px 2px rgba(0, 0, 0, 0.3));\n",
              "      fill: #FFFFFF;\n",
              "    }\n",
              "  </style>\n",
              "\n",
              "      <script>\n",
              "        const buttonEl =\n",
              "          document.querySelector('#df-f417077a-4494-4654-bd2c-0602e766b040 button.colab-df-convert');\n",
              "        buttonEl.style.display =\n",
              "          google.colab.kernel.accessAllowed ? 'block' : 'none';\n",
              "\n",
              "        async function convertToInteractive(key) {\n",
              "          const element = document.querySelector('#df-f417077a-4494-4654-bd2c-0602e766b040');\n",
              "          const dataTable =\n",
              "            await google.colab.kernel.invokeFunction('convertToInteractive',\n",
              "                                                     [key], {});\n",
              "          if (!dataTable) return;\n",
              "\n",
              "          const docLinkHtml = 'Like what you see? Visit the ' +\n",
              "            '<a target=\"_blank\" href=https://colab.research.google.com/notebooks/data_table.ipynb>data table notebook</a>'\n",
              "            + ' to learn more about interactive tables.';\n",
              "          element.innerHTML = '';\n",
              "          dataTable['output_type'] = 'display_data';\n",
              "          await google.colab.output.renderOutput(dataTable, element);\n",
              "          const docLink = document.createElement('div');\n",
              "          docLink.innerHTML = docLinkHtml;\n",
              "          element.appendChild(docLink);\n",
              "        }\n",
              "      </script>\n",
              "    </div>\n",
              "  </div>\n",
              "  "
            ]
          },
          "metadata": {},
          "execution_count": 10
        }
      ],
      "source": [
        "# action 10 = движение при выключенном свете\n",
        "train_base_df[train_base_df['action'] == 10]"
      ]
    },
    {
      "cell_type": "code",
      "execution_count": null,
      "metadata": {
        "id": "BJWADeLyhzaA",
        "colab": {
          "base_uri": "https://localhost:8080/"
        },
        "outputId": "8ef6d6db-6acb-46b3-edfb-777210ca1c46"
      },
      "outputs": [
        {
          "output_type": "execute_result",
          "data": {
            "text/plain": [
              "Empty DataFrame\n",
              "Columns: [id, date, employee, action]\n",
              "Index: []"
            ],
            "text/html": [
              "\n",
              "  <div id=\"df-6612c743-811b-4a83-8e00-853f6cb62562\">\n",
              "    <div class=\"colab-df-container\">\n",
              "      <div>\n",
              "<style scoped>\n",
              "    .dataframe tbody tr th:only-of-type {\n",
              "        vertical-align: middle;\n",
              "    }\n",
              "\n",
              "    .dataframe tbody tr th {\n",
              "        vertical-align: top;\n",
              "    }\n",
              "\n",
              "    .dataframe thead th {\n",
              "        text-align: right;\n",
              "    }\n",
              "</style>\n",
              "<table border=\"1\" class=\"dataframe\">\n",
              "  <thead>\n",
              "    <tr style=\"text-align: right;\">\n",
              "      <th></th>\n",
              "      <th>id</th>\n",
              "      <th>date</th>\n",
              "      <th>employee</th>\n",
              "      <th>action</th>\n",
              "    </tr>\n",
              "  </thead>\n",
              "  <tbody>\n",
              "  </tbody>\n",
              "</table>\n",
              "</div>\n",
              "      <button class=\"colab-df-convert\" onclick=\"convertToInteractive('df-6612c743-811b-4a83-8e00-853f6cb62562')\"\n",
              "              title=\"Convert this dataframe to an interactive table.\"\n",
              "              style=\"display:none;\">\n",
              "        \n",
              "  <svg xmlns=\"http://www.w3.org/2000/svg\" height=\"24px\"viewBox=\"0 0 24 24\"\n",
              "       width=\"24px\">\n",
              "    <path d=\"M0 0h24v24H0V0z\" fill=\"none\"/>\n",
              "    <path d=\"M18.56 5.44l.94 2.06.94-2.06 2.06-.94-2.06-.94-.94-2.06-.94 2.06-2.06.94zm-11 1L8.5 8.5l.94-2.06 2.06-.94-2.06-.94L8.5 2.5l-.94 2.06-2.06.94zm10 10l.94 2.06.94-2.06 2.06-.94-2.06-.94-.94-2.06-.94 2.06-2.06.94z\"/><path d=\"M17.41 7.96l-1.37-1.37c-.4-.4-.92-.59-1.43-.59-.52 0-1.04.2-1.43.59L10.3 9.45l-7.72 7.72c-.78.78-.78 2.05 0 2.83L4 21.41c.39.39.9.59 1.41.59.51 0 1.02-.2 1.41-.59l7.78-7.78 2.81-2.81c.8-.78.8-2.07 0-2.86zM5.41 20L4 18.59l7.72-7.72 1.47 1.35L5.41 20z\"/>\n",
              "  </svg>\n",
              "      </button>\n",
              "      \n",
              "  <style>\n",
              "    .colab-df-container {\n",
              "      display:flex;\n",
              "      flex-wrap:wrap;\n",
              "      gap: 12px;\n",
              "    }\n",
              "\n",
              "    .colab-df-convert {\n",
              "      background-color: #E8F0FE;\n",
              "      border: none;\n",
              "      border-radius: 50%;\n",
              "      cursor: pointer;\n",
              "      display: none;\n",
              "      fill: #1967D2;\n",
              "      height: 32px;\n",
              "      padding: 0 0 0 0;\n",
              "      width: 32px;\n",
              "    }\n",
              "\n",
              "    .colab-df-convert:hover {\n",
              "      background-color: #E2EBFA;\n",
              "      box-shadow: 0px 1px 2px rgba(60, 64, 67, 0.3), 0px 1px 3px 1px rgba(60, 64, 67, 0.15);\n",
              "      fill: #174EA6;\n",
              "    }\n",
              "\n",
              "    [theme=dark] .colab-df-convert {\n",
              "      background-color: #3B4455;\n",
              "      fill: #D2E3FC;\n",
              "    }\n",
              "\n",
              "    [theme=dark] .colab-df-convert:hover {\n",
              "      background-color: #434B5C;\n",
              "      box-shadow: 0px 1px 3px 1px rgba(0, 0, 0, 0.15);\n",
              "      filter: drop-shadow(0px 1px 2px rgba(0, 0, 0, 0.3));\n",
              "      fill: #FFFFFF;\n",
              "    }\n",
              "  </style>\n",
              "\n",
              "      <script>\n",
              "        const buttonEl =\n",
              "          document.querySelector('#df-6612c743-811b-4a83-8e00-853f6cb62562 button.colab-df-convert');\n",
              "        buttonEl.style.display =\n",
              "          google.colab.kernel.accessAllowed ? 'block' : 'none';\n",
              "\n",
              "        async function convertToInteractive(key) {\n",
              "          const element = document.querySelector('#df-6612c743-811b-4a83-8e00-853f6cb62562');\n",
              "          const dataTable =\n",
              "            await google.colab.kernel.invokeFunction('convertToInteractive',\n",
              "                                                     [key], {});\n",
              "          if (!dataTable) return;\n",
              "\n",
              "          const docLinkHtml = 'Like what you see? Visit the ' +\n",
              "            '<a target=\"_blank\" href=https://colab.research.google.com/notebooks/data_table.ipynb>data table notebook</a>'\n",
              "            + ' to learn more about interactive tables.';\n",
              "          element.innerHTML = '';\n",
              "          dataTable['output_type'] = 'display_data';\n",
              "          await google.colab.output.renderOutput(dataTable, element);\n",
              "          const docLink = document.createElement('div');\n",
              "          docLink.innerHTML = docLinkHtml;\n",
              "          element.appendChild(docLink);\n",
              "        }\n",
              "      </script>\n",
              "    </div>\n",
              "  </div>\n",
              "  "
            ]
          },
          "metadata": {},
          "execution_count": 11
        }
      ],
      "source": [
        "# сотрудника №9 впринципе нет, поэтому его стоит потом удалить\n",
        "train_base_df[train_base_df['employee'] == 9]"
      ]
    },
    {
      "cell_type": "code",
      "execution_count": null,
      "metadata": {
        "colab": {
          "base_uri": "https://localhost:8080/"
        },
        "id": "qyG6j7rOD2at",
        "outputId": "1e1cb6a5-2406-46bf-fd8a-1896d603929e"
      },
      "outputs": [
        {
          "output_type": "execute_result",
          "data": {
            "text/plain": [
              "        id                 date  employee  action\n",
              "1216  2472  2022-05-26 06:53:12         2     0.0\n",
              "1217  2473  2022-05-26 06:53:29         2     0.0\n",
              "1233  2489  2022-05-26 07:06:47        10     0.0\n",
              "1234  2490  2022-05-26 07:06:53        10     0.0\n",
              "1374  2630  2022-05-26 10:07:56         0     0.0\n",
              "1411  2667  2022-05-26 10:40:57         0     0.0\n",
              "1412  2668  2022-05-26 10:41:12         0     0.0\n",
              "1419  2675  2022-05-26 10:42:13         0     0.0\n",
              "1435  2691  2022-05-26 11:05:26         0     0.0\n",
              "2118  3374  2027-05-27 00:18:52         0     0.0\n",
              "2126  3382  2027-05-27 01:58:29         0     0.0"
            ],
            "text/html": [
              "\n",
              "  <div id=\"df-a831a716-85de-4aca-ad90-2960d32246c2\">\n",
              "    <div class=\"colab-df-container\">\n",
              "      <div>\n",
              "<style scoped>\n",
              "    .dataframe tbody tr th:only-of-type {\n",
              "        vertical-align: middle;\n",
              "    }\n",
              "\n",
              "    .dataframe tbody tr th {\n",
              "        vertical-align: top;\n",
              "    }\n",
              "\n",
              "    .dataframe thead th {\n",
              "        text-align: right;\n",
              "    }\n",
              "</style>\n",
              "<table border=\"1\" class=\"dataframe\">\n",
              "  <thead>\n",
              "    <tr style=\"text-align: right;\">\n",
              "      <th></th>\n",
              "      <th>id</th>\n",
              "      <th>date</th>\n",
              "      <th>employee</th>\n",
              "      <th>action</th>\n",
              "    </tr>\n",
              "  </thead>\n",
              "  <tbody>\n",
              "    <tr>\n",
              "      <th>1216</th>\n",
              "      <td>2472</td>\n",
              "      <td>2022-05-26 06:53:12</td>\n",
              "      <td>2</td>\n",
              "      <td>0.0</td>\n",
              "    </tr>\n",
              "    <tr>\n",
              "      <th>1217</th>\n",
              "      <td>2473</td>\n",
              "      <td>2022-05-26 06:53:29</td>\n",
              "      <td>2</td>\n",
              "      <td>0.0</td>\n",
              "    </tr>\n",
              "    <tr>\n",
              "      <th>1233</th>\n",
              "      <td>2489</td>\n",
              "      <td>2022-05-26 07:06:47</td>\n",
              "      <td>10</td>\n",
              "      <td>0.0</td>\n",
              "    </tr>\n",
              "    <tr>\n",
              "      <th>1234</th>\n",
              "      <td>2490</td>\n",
              "      <td>2022-05-26 07:06:53</td>\n",
              "      <td>10</td>\n",
              "      <td>0.0</td>\n",
              "    </tr>\n",
              "    <tr>\n",
              "      <th>1374</th>\n",
              "      <td>2630</td>\n",
              "      <td>2022-05-26 10:07:56</td>\n",
              "      <td>0</td>\n",
              "      <td>0.0</td>\n",
              "    </tr>\n",
              "    <tr>\n",
              "      <th>1411</th>\n",
              "      <td>2667</td>\n",
              "      <td>2022-05-26 10:40:57</td>\n",
              "      <td>0</td>\n",
              "      <td>0.0</td>\n",
              "    </tr>\n",
              "    <tr>\n",
              "      <th>1412</th>\n",
              "      <td>2668</td>\n",
              "      <td>2022-05-26 10:41:12</td>\n",
              "      <td>0</td>\n",
              "      <td>0.0</td>\n",
              "    </tr>\n",
              "    <tr>\n",
              "      <th>1419</th>\n",
              "      <td>2675</td>\n",
              "      <td>2022-05-26 10:42:13</td>\n",
              "      <td>0</td>\n",
              "      <td>0.0</td>\n",
              "    </tr>\n",
              "    <tr>\n",
              "      <th>1435</th>\n",
              "      <td>2691</td>\n",
              "      <td>2022-05-26 11:05:26</td>\n",
              "      <td>0</td>\n",
              "      <td>0.0</td>\n",
              "    </tr>\n",
              "    <tr>\n",
              "      <th>2118</th>\n",
              "      <td>3374</td>\n",
              "      <td>2027-05-27 00:18:52</td>\n",
              "      <td>0</td>\n",
              "      <td>0.0</td>\n",
              "    </tr>\n",
              "    <tr>\n",
              "      <th>2126</th>\n",
              "      <td>3382</td>\n",
              "      <td>2027-05-27 01:58:29</td>\n",
              "      <td>0</td>\n",
              "      <td>0.0</td>\n",
              "    </tr>\n",
              "  </tbody>\n",
              "</table>\n",
              "</div>\n",
              "      <button class=\"colab-df-convert\" onclick=\"convertToInteractive('df-a831a716-85de-4aca-ad90-2960d32246c2')\"\n",
              "              title=\"Convert this dataframe to an interactive table.\"\n",
              "              style=\"display:none;\">\n",
              "        \n",
              "  <svg xmlns=\"http://www.w3.org/2000/svg\" height=\"24px\"viewBox=\"0 0 24 24\"\n",
              "       width=\"24px\">\n",
              "    <path d=\"M0 0h24v24H0V0z\" fill=\"none\"/>\n",
              "    <path d=\"M18.56 5.44l.94 2.06.94-2.06 2.06-.94-2.06-.94-.94-2.06-.94 2.06-2.06.94zm-11 1L8.5 8.5l.94-2.06 2.06-.94-2.06-.94L8.5 2.5l-.94 2.06-2.06.94zm10 10l.94 2.06.94-2.06 2.06-.94-2.06-.94-.94-2.06-.94 2.06-2.06.94z\"/><path d=\"M17.41 7.96l-1.37-1.37c-.4-.4-.92-.59-1.43-.59-.52 0-1.04.2-1.43.59L10.3 9.45l-7.72 7.72c-.78.78-.78 2.05 0 2.83L4 21.41c.39.39.9.59 1.41.59.51 0 1.02-.2 1.41-.59l7.78-7.78 2.81-2.81c.8-.78.8-2.07 0-2.86zM5.41 20L4 18.59l7.72-7.72 1.47 1.35L5.41 20z\"/>\n",
              "  </svg>\n",
              "      </button>\n",
              "      \n",
              "  <style>\n",
              "    .colab-df-container {\n",
              "      display:flex;\n",
              "      flex-wrap:wrap;\n",
              "      gap: 12px;\n",
              "    }\n",
              "\n",
              "    .colab-df-convert {\n",
              "      background-color: #E8F0FE;\n",
              "      border: none;\n",
              "      border-radius: 50%;\n",
              "      cursor: pointer;\n",
              "      display: none;\n",
              "      fill: #1967D2;\n",
              "      height: 32px;\n",
              "      padding: 0 0 0 0;\n",
              "      width: 32px;\n",
              "    }\n",
              "\n",
              "    .colab-df-convert:hover {\n",
              "      background-color: #E2EBFA;\n",
              "      box-shadow: 0px 1px 2px rgba(60, 64, 67, 0.3), 0px 1px 3px 1px rgba(60, 64, 67, 0.15);\n",
              "      fill: #174EA6;\n",
              "    }\n",
              "\n",
              "    [theme=dark] .colab-df-convert {\n",
              "      background-color: #3B4455;\n",
              "      fill: #D2E3FC;\n",
              "    }\n",
              "\n",
              "    [theme=dark] .colab-df-convert:hover {\n",
              "      background-color: #434B5C;\n",
              "      box-shadow: 0px 1px 3px 1px rgba(0, 0, 0, 0.15);\n",
              "      filter: drop-shadow(0px 1px 2px rgba(0, 0, 0, 0.3));\n",
              "      fill: #FFFFFF;\n",
              "    }\n",
              "  </style>\n",
              "\n",
              "      <script>\n",
              "        const buttonEl =\n",
              "          document.querySelector('#df-a831a716-85de-4aca-ad90-2960d32246c2 button.colab-df-convert');\n",
              "        buttonEl.style.display =\n",
              "          google.colab.kernel.accessAllowed ? 'block' : 'none';\n",
              "\n",
              "        async function convertToInteractive(key) {\n",
              "          const element = document.querySelector('#df-a831a716-85de-4aca-ad90-2960d32246c2');\n",
              "          const dataTable =\n",
              "            await google.colab.kernel.invokeFunction('convertToInteractive',\n",
              "                                                     [key], {});\n",
              "          if (!dataTable) return;\n",
              "\n",
              "          const docLinkHtml = 'Like what you see? Visit the ' +\n",
              "            '<a target=\"_blank\" href=https://colab.research.google.com/notebooks/data_table.ipynb>data table notebook</a>'\n",
              "            + ' to learn more about interactive tables.';\n",
              "          element.innerHTML = '';\n",
              "          dataTable['output_type'] = 'display_data';\n",
              "          await google.colab.output.renderOutput(dataTable, element);\n",
              "          const docLink = document.createElement('div');\n",
              "          docLink.innerHTML = docLinkHtml;\n",
              "          element.appendChild(docLink);\n",
              "        }\n",
              "      </script>\n",
              "    </div>\n",
              "  </div>\n",
              "  "
            ]
          },
          "metadata": {},
          "execution_count": 12
        }
      ],
      "source": [
        "# action 0 = непонятное действие\n",
        "train_base_df[train_base_df['action'] == 0]"
      ]
    },
    {
      "cell_type": "code",
      "execution_count": null,
      "metadata": {
        "colab": {
          "base_uri": "https://localhost:8080/"
        },
        "id": "TKVTZNn4EM_j",
        "outputId": "c28bd874-4391-442e-b73f-b2df5de77181"
      },
      "outputs": [
        {
          "output_type": "execute_result",
          "data": {
            "text/plain": [
              "        id                 date  employee  action\n",
              "2094  3350  2027-05-27 00:00:42         0     5.0\n",
              "2095  3351  2027-05-27 00:01:14         0    15.0\n",
              "2096  3352  2027-05-27 00:01:31         0     2.0\n",
              "2097  3353  2027-05-27 00:01:49         0    12.0\n",
              "2098  3354  2027-05-27 00:02:23         8    12.0\n",
              "...    ...                  ...       ...     ...\n",
              "2215  3471  2027-05-27 07:33:05         3    16.0\n",
              "2216  3472  2027-05-27 07:33:13         3     4.0\n",
              "2217  3473  2027-05-27 07:33:14         6     5.0\n",
              "2218  3474  2027-05-27 07:33:45         3    14.0\n",
              "2219  3475  2027-05-27 07:33:47         3     5.0\n",
              "\n",
              "[93 rows x 4 columns]"
            ],
            "text/html": [
              "\n",
              "  <div id=\"df-27c4f76c-ce29-4976-9dea-34753c1dc749\">\n",
              "    <div class=\"colab-df-container\">\n",
              "      <div>\n",
              "<style scoped>\n",
              "    .dataframe tbody tr th:only-of-type {\n",
              "        vertical-align: middle;\n",
              "    }\n",
              "\n",
              "    .dataframe tbody tr th {\n",
              "        vertical-align: top;\n",
              "    }\n",
              "\n",
              "    .dataframe thead th {\n",
              "        text-align: right;\n",
              "    }\n",
              "</style>\n",
              "<table border=\"1\" class=\"dataframe\">\n",
              "  <thead>\n",
              "    <tr style=\"text-align: right;\">\n",
              "      <th></th>\n",
              "      <th>id</th>\n",
              "      <th>date</th>\n",
              "      <th>employee</th>\n",
              "      <th>action</th>\n",
              "    </tr>\n",
              "  </thead>\n",
              "  <tbody>\n",
              "    <tr>\n",
              "      <th>2094</th>\n",
              "      <td>3350</td>\n",
              "      <td>2027-05-27 00:00:42</td>\n",
              "      <td>0</td>\n",
              "      <td>5.0</td>\n",
              "    </tr>\n",
              "    <tr>\n",
              "      <th>2095</th>\n",
              "      <td>3351</td>\n",
              "      <td>2027-05-27 00:01:14</td>\n",
              "      <td>0</td>\n",
              "      <td>15.0</td>\n",
              "    </tr>\n",
              "    <tr>\n",
              "      <th>2096</th>\n",
              "      <td>3352</td>\n",
              "      <td>2027-05-27 00:01:31</td>\n",
              "      <td>0</td>\n",
              "      <td>2.0</td>\n",
              "    </tr>\n",
              "    <tr>\n",
              "      <th>2097</th>\n",
              "      <td>3353</td>\n",
              "      <td>2027-05-27 00:01:49</td>\n",
              "      <td>0</td>\n",
              "      <td>12.0</td>\n",
              "    </tr>\n",
              "    <tr>\n",
              "      <th>2098</th>\n",
              "      <td>3354</td>\n",
              "      <td>2027-05-27 00:02:23</td>\n",
              "      <td>8</td>\n",
              "      <td>12.0</td>\n",
              "    </tr>\n",
              "    <tr>\n",
              "      <th>...</th>\n",
              "      <td>...</td>\n",
              "      <td>...</td>\n",
              "      <td>...</td>\n",
              "      <td>...</td>\n",
              "    </tr>\n",
              "    <tr>\n",
              "      <th>2215</th>\n",
              "      <td>3471</td>\n",
              "      <td>2027-05-27 07:33:05</td>\n",
              "      <td>3</td>\n",
              "      <td>16.0</td>\n",
              "    </tr>\n",
              "    <tr>\n",
              "      <th>2216</th>\n",
              "      <td>3472</td>\n",
              "      <td>2027-05-27 07:33:13</td>\n",
              "      <td>3</td>\n",
              "      <td>4.0</td>\n",
              "    </tr>\n",
              "    <tr>\n",
              "      <th>2217</th>\n",
              "      <td>3473</td>\n",
              "      <td>2027-05-27 07:33:14</td>\n",
              "      <td>6</td>\n",
              "      <td>5.0</td>\n",
              "    </tr>\n",
              "    <tr>\n",
              "      <th>2218</th>\n",
              "      <td>3474</td>\n",
              "      <td>2027-05-27 07:33:45</td>\n",
              "      <td>3</td>\n",
              "      <td>14.0</td>\n",
              "    </tr>\n",
              "    <tr>\n",
              "      <th>2219</th>\n",
              "      <td>3475</td>\n",
              "      <td>2027-05-27 07:33:47</td>\n",
              "      <td>3</td>\n",
              "      <td>5.0</td>\n",
              "    </tr>\n",
              "  </tbody>\n",
              "</table>\n",
              "<p>93 rows × 4 columns</p>\n",
              "</div>\n",
              "      <button class=\"colab-df-convert\" onclick=\"convertToInteractive('df-27c4f76c-ce29-4976-9dea-34753c1dc749')\"\n",
              "              title=\"Convert this dataframe to an interactive table.\"\n",
              "              style=\"display:none;\">\n",
              "        \n",
              "  <svg xmlns=\"http://www.w3.org/2000/svg\" height=\"24px\"viewBox=\"0 0 24 24\"\n",
              "       width=\"24px\">\n",
              "    <path d=\"M0 0h24v24H0V0z\" fill=\"none\"/>\n",
              "    <path d=\"M18.56 5.44l.94 2.06.94-2.06 2.06-.94-2.06-.94-.94-2.06-.94 2.06-2.06.94zm-11 1L8.5 8.5l.94-2.06 2.06-.94-2.06-.94L8.5 2.5l-.94 2.06-2.06.94zm10 10l.94 2.06.94-2.06 2.06-.94-2.06-.94-.94-2.06-.94 2.06-2.06.94z\"/><path d=\"M17.41 7.96l-1.37-1.37c-.4-.4-.92-.59-1.43-.59-.52 0-1.04.2-1.43.59L10.3 9.45l-7.72 7.72c-.78.78-.78 2.05 0 2.83L4 21.41c.39.39.9.59 1.41.59.51 0 1.02-.2 1.41-.59l7.78-7.78 2.81-2.81c.8-.78.8-2.07 0-2.86zM5.41 20L4 18.59l7.72-7.72 1.47 1.35L5.41 20z\"/>\n",
              "  </svg>\n",
              "      </button>\n",
              "      \n",
              "  <style>\n",
              "    .colab-df-container {\n",
              "      display:flex;\n",
              "      flex-wrap:wrap;\n",
              "      gap: 12px;\n",
              "    }\n",
              "\n",
              "    .colab-df-convert {\n",
              "      background-color: #E8F0FE;\n",
              "      border: none;\n",
              "      border-radius: 50%;\n",
              "      cursor: pointer;\n",
              "      display: none;\n",
              "      fill: #1967D2;\n",
              "      height: 32px;\n",
              "      padding: 0 0 0 0;\n",
              "      width: 32px;\n",
              "    }\n",
              "\n",
              "    .colab-df-convert:hover {\n",
              "      background-color: #E2EBFA;\n",
              "      box-shadow: 0px 1px 2px rgba(60, 64, 67, 0.3), 0px 1px 3px 1px rgba(60, 64, 67, 0.15);\n",
              "      fill: #174EA6;\n",
              "    }\n",
              "\n",
              "    [theme=dark] .colab-df-convert {\n",
              "      background-color: #3B4455;\n",
              "      fill: #D2E3FC;\n",
              "    }\n",
              "\n",
              "    [theme=dark] .colab-df-convert:hover {\n",
              "      background-color: #434B5C;\n",
              "      box-shadow: 0px 1px 3px 1px rgba(0, 0, 0, 0.15);\n",
              "      filter: drop-shadow(0px 1px 2px rgba(0, 0, 0, 0.3));\n",
              "      fill: #FFFFFF;\n",
              "    }\n",
              "  </style>\n",
              "\n",
              "      <script>\n",
              "        const buttonEl =\n",
              "          document.querySelector('#df-27c4f76c-ce29-4976-9dea-34753c1dc749 button.colab-df-convert');\n",
              "        buttonEl.style.display =\n",
              "          google.colab.kernel.accessAllowed ? 'block' : 'none';\n",
              "\n",
              "        async function convertToInteractive(key) {\n",
              "          const element = document.querySelector('#df-27c4f76c-ce29-4976-9dea-34753c1dc749');\n",
              "          const dataTable =\n",
              "            await google.colab.kernel.invokeFunction('convertToInteractive',\n",
              "                                                     [key], {});\n",
              "          if (!dataTable) return;\n",
              "\n",
              "          const docLinkHtml = 'Like what you see? Visit the ' +\n",
              "            '<a target=\"_blank\" href=https://colab.research.google.com/notebooks/data_table.ipynb>data table notebook</a>'\n",
              "            + ' to learn more about interactive tables.';\n",
              "          element.innerHTML = '';\n",
              "          dataTable['output_type'] = 'display_data';\n",
              "          await google.colab.output.renderOutput(dataTable, element);\n",
              "          const docLink = document.createElement('div');\n",
              "          docLink.innerHTML = docLinkHtml;\n",
              "          element.appendChild(docLink);\n",
              "        }\n",
              "      </script>\n",
              "    </div>\n",
              "  </div>\n",
              "  "
            ]
          },
          "metadata": {},
          "execution_count": 13
        }
      ],
      "source": [
        "# что за 2027 год!?!?!?!?! Люди в Иркутске, мы что-то о вас не знаем?\n",
        "train_base_df[train_base_df['date'].str.contains('2027-')]"
      ]
    },
    {
      "cell_type": "code",
      "execution_count": null,
      "metadata": {
        "colab": {
          "base_uri": "https://localhost:8080/"
        },
        "id": "ReyEgqL0Ed5r",
        "outputId": "2d7c1a61-b45d-40e3-da12-9b3650eefb81"
      },
      "outputs": [
        {
          "output_type": "execute_result",
          "data": {
            "text/plain": [
              "Empty DataFrame\n",
              "Columns: [id, date]\n",
              "Index: []"
            ],
            "text/html": [
              "\n",
              "  <div id=\"df-9f7f412e-fcc9-47c2-bda7-ddc616980419\">\n",
              "    <div class=\"colab-df-container\">\n",
              "      <div>\n",
              "<style scoped>\n",
              "    .dataframe tbody tr th:only-of-type {\n",
              "        vertical-align: middle;\n",
              "    }\n",
              "\n",
              "    .dataframe tbody tr th {\n",
              "        vertical-align: top;\n",
              "    }\n",
              "\n",
              "    .dataframe thead th {\n",
              "        text-align: right;\n",
              "    }\n",
              "</style>\n",
              "<table border=\"1\" class=\"dataframe\">\n",
              "  <thead>\n",
              "    <tr style=\"text-align: right;\">\n",
              "      <th></th>\n",
              "      <th>id</th>\n",
              "      <th>date</th>\n",
              "    </tr>\n",
              "  </thead>\n",
              "  <tbody>\n",
              "  </tbody>\n",
              "</table>\n",
              "</div>\n",
              "      <button class=\"colab-df-convert\" onclick=\"convertToInteractive('df-9f7f412e-fcc9-47c2-bda7-ddc616980419')\"\n",
              "              title=\"Convert this dataframe to an interactive table.\"\n",
              "              style=\"display:none;\">\n",
              "        \n",
              "  <svg xmlns=\"http://www.w3.org/2000/svg\" height=\"24px\"viewBox=\"0 0 24 24\"\n",
              "       width=\"24px\">\n",
              "    <path d=\"M0 0h24v24H0V0z\" fill=\"none\"/>\n",
              "    <path d=\"M18.56 5.44l.94 2.06.94-2.06 2.06-.94-2.06-.94-.94-2.06-.94 2.06-2.06.94zm-11 1L8.5 8.5l.94-2.06 2.06-.94-2.06-.94L8.5 2.5l-.94 2.06-2.06.94zm10 10l.94 2.06.94-2.06 2.06-.94-2.06-.94-.94-2.06-.94 2.06-2.06.94z\"/><path d=\"M17.41 7.96l-1.37-1.37c-.4-.4-.92-.59-1.43-.59-.52 0-1.04.2-1.43.59L10.3 9.45l-7.72 7.72c-.78.78-.78 2.05 0 2.83L4 21.41c.39.39.9.59 1.41.59.51 0 1.02-.2 1.41-.59l7.78-7.78 2.81-2.81c.8-.78.8-2.07 0-2.86zM5.41 20L4 18.59l7.72-7.72 1.47 1.35L5.41 20z\"/>\n",
              "  </svg>\n",
              "      </button>\n",
              "      \n",
              "  <style>\n",
              "    .colab-df-container {\n",
              "      display:flex;\n",
              "      flex-wrap:wrap;\n",
              "      gap: 12px;\n",
              "    }\n",
              "\n",
              "    .colab-df-convert {\n",
              "      background-color: #E8F0FE;\n",
              "      border: none;\n",
              "      border-radius: 50%;\n",
              "      cursor: pointer;\n",
              "      display: none;\n",
              "      fill: #1967D2;\n",
              "      height: 32px;\n",
              "      padding: 0 0 0 0;\n",
              "      width: 32px;\n",
              "    }\n",
              "\n",
              "    .colab-df-convert:hover {\n",
              "      background-color: #E2EBFA;\n",
              "      box-shadow: 0px 1px 2px rgba(60, 64, 67, 0.3), 0px 1px 3px 1px rgba(60, 64, 67, 0.15);\n",
              "      fill: #174EA6;\n",
              "    }\n",
              "\n",
              "    [theme=dark] .colab-df-convert {\n",
              "      background-color: #3B4455;\n",
              "      fill: #D2E3FC;\n",
              "    }\n",
              "\n",
              "    [theme=dark] .colab-df-convert:hover {\n",
              "      background-color: #434B5C;\n",
              "      box-shadow: 0px 1px 3px 1px rgba(0, 0, 0, 0.15);\n",
              "      filter: drop-shadow(0px 1px 2px rgba(0, 0, 0, 0.3));\n",
              "      fill: #FFFFFF;\n",
              "    }\n",
              "  </style>\n",
              "\n",
              "      <script>\n",
              "        const buttonEl =\n",
              "          document.querySelector('#df-9f7f412e-fcc9-47c2-bda7-ddc616980419 button.colab-df-convert');\n",
              "        buttonEl.style.display =\n",
              "          google.colab.kernel.accessAllowed ? 'block' : 'none';\n",
              "\n",
              "        async function convertToInteractive(key) {\n",
              "          const element = document.querySelector('#df-9f7f412e-fcc9-47c2-bda7-ddc616980419');\n",
              "          const dataTable =\n",
              "            await google.colab.kernel.invokeFunction('convertToInteractive',\n",
              "                                                     [key], {});\n",
              "          if (!dataTable) return;\n",
              "\n",
              "          const docLinkHtml = 'Like what you see? Visit the ' +\n",
              "            '<a target=\"_blank\" href=https://colab.research.google.com/notebooks/data_table.ipynb>data table notebook</a>'\n",
              "            + ' to learn more about interactive tables.';\n",
              "          element.innerHTML = '';\n",
              "          dataTable['output_type'] = 'display_data';\n",
              "          await google.colab.output.renderOutput(dataTable, element);\n",
              "          const docLink = document.createElement('div');\n",
              "          docLink.innerHTML = docLinkHtml;\n",
              "          element.appendChild(docLink);\n",
              "        }\n",
              "      </script>\n",
              "    </div>\n",
              "  </div>\n",
              "  "
            ]
          },
          "metadata": {},
          "execution_count": 14
        }
      ],
      "source": [
        "test_base_df[test_base_df['date'].str.contains('2027-')]"
      ]
    },
    {
      "cell_type": "code",
      "execution_count": null,
      "metadata": {
        "id": "scYoefcFEeR9"
      },
      "outputs": [],
      "source": [
        "indexes_2027 = train_base_df[train_base_df['date'].str.contains('2027-')].index\n",
        "for i in indexes_2027:\n",
        "    train_base_df.at[i, 'date'] = '2022' + train_base_df.at[i, 'date'][4:]"
      ]
    },
    {
      "cell_type": "code",
      "execution_count": null,
      "metadata": {
        "id": "JsJznlMmiDk_"
      },
      "outputs": [],
      "source": [
        "train_base_df['employee'] = train_base_df['employee'].replace(10, 9).replace(11, 10)"
      ]
    },
    {
      "cell_type": "markdown",
      "source": [
        "# Инициализация кэшированной даты"
      ],
      "metadata": {
        "id": "PAcwsABeFJZI"
      }
    },
    {
      "cell_type": "code",
      "source": [
        "frame_data = pickle.load(open(FRAME_DATA_FILE, 'rb'))\n",
        "people_data = pickle.load(open(PEOPLE_DATA_FILE, 'rb'))\n",
        "head_data = pickle.load(open(HEAD_DATA_FILE, 'rb'))"
      ],
      "metadata": {
        "id": "-0vTYYz-iURJ"
      },
      "execution_count": null,
      "outputs": []
    },
    {
      "cell_type": "code",
      "source": [
        "train_dates = {key: val for dataset in ['train/train1_resized_fast.mp4', 'train/train2.mp4'] for key, val in frame_data.items()}\n",
        "train_peoples = {key: val for dataset in ['train/train1_resized_fast.mp4', 'train/train2.mp4'] for key, val in people_data.items()}"
      ],
      "metadata": {
        "id": "qe2CVBY3jV9b"
      },
      "execution_count": null,
      "outputs": []
    },
    {
      "cell_type": "code",
      "source": [
        "test_dates = {key: val for dataset in ['test/test_fast.mp4'] for key, val in frame_data.items()}\n",
        "test_peoples = {key: val for dataset in ['test/test_fast.mp4'] for key, val in people_data.items()}"
      ],
      "metadata": {
        "id": "36HLmOlTFape"
      },
      "execution_count": null,
      "outputs": []
    },
    {
      "cell_type": "markdown",
      "metadata": {
        "id": "QSAytVT1Exg6"
      },
      "source": [
        "# Детектинг людей вышли/зашли"
      ]
    },
    {
      "cell_type": "code",
      "source": [
        "datasets = []\n",
        "for i in range(len(train_base_df)):\n",
        "    row = train_base_df.iloc[i]\n",
        "    date = row['date']\n",
        "    if date in frame_data['train/train1_resized_fast.mp4'].values():\n",
        "        datasets.append('train/train1_resized_fast.mp4')\n",
        "    elif date in frame_data['train/train2_fast.mp4'].values():\n",
        "        datasets.append('train/train2_fast.mp4')\n",
        "    else:\n",
        "        datasets.append(None)\n",
        "train_base_df['dataset'] = datasets\n",
        "len(train_base_df), len(train_base_df[train_base_df['dataset'].notnull()])"
      ],
      "metadata": {
        "colab": {
          "base_uri": "https://localhost:8080/"
        },
        "id": "R2-Obm93jkom",
        "outputId": "939f51f1-6cc0-40e6-b3dc-d7b1671f98a3"
      },
      "execution_count": null,
      "outputs": [
        {
          "output_type": "execute_result",
          "data": {
            "text/plain": [
              "(3519, 3002)"
            ]
          },
          "metadata": {},
          "execution_count": 71
        }
      ]
    },
    {
      "cell_type": "code",
      "execution_count": null,
      "metadata": {
        "id": "wcBSgyd_En65"
      },
      "outputs": [],
      "source": [
        "max_n_people = 26\n",
        "cb_train_action_df = pd.DataFrame({}, columns=[f'frame_{i}' for i in range(max_n_people)] + ['label'])\n",
        "cb_train_door_df = pd.DataFrame({}, columns=['frame_i', 'door', 'x1', 'y1', 'x2', 'y2'])\n",
        "pred_actions = []\n",
        "for i in range(len(train_base_df)):\n",
        "    row = train_base_df.iloc[i]\n",
        "    dataset = row['dataset']\n",
        "    date = row['date']\n",
        "    action = row['action']\n",
        "    employee = row['employee']\n",
        "    if dataset is None or action in [0, 10]:\n",
        "        continue\n",
        "\n",
        "    from_frame_i = min([frame_i for frame_i, date_ in frame_data[dataset].items() if date == date_])\n",
        "    if from_frame_i - 10 >= 0:\n",
        "        from_frame_i -= 10\n",
        "    else:\n",
        "        from_frame_i = 0\n",
        "    to_frame_i = max([frame_i for frame_i, date_ in frame_data[dataset].items() if date == date_]) + 5\n",
        "    if to_frame_i + 5 <= max(frame_data[dataset]):\n",
        "        to_frame_i += 5\n",
        "    else:\n",
        "        to_frame_i = max(frame_data[dataset])\n",
        "    n_people = []\n",
        "    for frame_i in range(from_frame_i, to_frame_i + 1):\n",
        "        if frame_i not in people_data[dataset]:\n",
        "            n_people.append(0)\n",
        "            continue\n",
        "        annotations = people_data[dataset][frame_i]\n",
        "        n_people.append(len(annotations))\n",
        "    n_people = n_people[:max_n_people]\n",
        "    for j in range(len(n_people) - 2):\n",
        "        if n_people[j] != n_people[j + 1] and n_people[j] == n_people[j + 2]:\n",
        "            n_people[j + 1] = n_people[j]\n",
        "    \n",
        "    mid_i = len(n_people) // 2\n",
        "    if action > 10:\n",
        "        # список индексов, где появляется человек до центра\n",
        "        to_middle = []\n",
        "        for human_i in range(1, mid_i + 1):\n",
        "            if n_people[human_i] > n_people[human_i - 1]:\n",
        "                to_middle.append(human_i)\n",
        "        if not any(to_middle):\n",
        "            for human_i in range(mid_i + 1, len(n_people)):\n",
        "                if n_people[human_i] > n_people[human_i - 1]:\n",
        "                    to_middle.append(human_i)\n",
        "            if not any(to_middle):\n",
        "                continue\n",
        "            human_i = min(to_middle)\n",
        "        else:\n",
        "            human_i = max(to_middle)\n",
        "    else:\n",
        "        # список индексов, где исчезает за дверью человек до центра\n",
        "        to_middle = []\n",
        "        for human_i in range(mid_i + 1, len(n_people)):\n",
        "            if n_people[human_i] < n_people[human_i - 1]:\n",
        "                to_middle.append(human_i)\n",
        "        if not any(to_middle):\n",
        "            for human_i in range(1, mid_i + 1):\n",
        "                if n_people[human_i] < n_people[human_i - 1]:\n",
        "                    to_middle.append(human_i)\n",
        "            if not any(to_middle):\n",
        "                continue\n",
        "            human_i = max(to_middle)\n",
        "        else:\n",
        "            human_i = min(to_middle)\n",
        "    \n",
        "    cheking_n_people = n_people[human_i - 1:human_i + 1]\n",
        "    if abs(cheking_n_people[0] - cheking_n_people[1]) != 1:\n",
        "        continue\n",
        "    if 0 in cheking_n_people and 1 in cheking_n_people:\n",
        "        if action > 10:\n",
        "            frame_i = from_frame_i + human_i\n",
        "        else:\n",
        "            frame_i = from_frame_i + human_i - 1\n",
        "        annotation = people_data[dataset][frame_i][0]\n",
        "    else:\n",
        "        if action > 10:\n",
        "            frame_i = from_frame_i + human_i\n",
        "            annotations1 = people_data[dataset][frame_i - 1]\n",
        "            annotations2 = people_data[dataset][frame_i]\n",
        "        else:\n",
        "            frame_i = from_frame_i + human_i - 1\n",
        "            annotations1 = people_data[dataset][frame_i + 1]\n",
        "            annotations2 = people_data[dataset][frame_i]\n",
        "        center_annotation1 = [[annotation[0] + (annotation[2] - annotation[0]) // 2,\n",
        "                               annotation[1] + (annotation[3] - annotation[1]) // 2]\n",
        "                              for annotation in annotations1]\n",
        "        center_annotation2 = [[annotation[0] + (annotation[2] - annotation[0]) // 2,\n",
        "                               annotation[1] + (annotation[3] - annotation[1]) // 2]\n",
        "                              for annotation in annotations2]\n",
        "        for annotation1 in center_annotation1:\n",
        "            len_to_center = []\n",
        "            for annotation2 in center_annotation2:\n",
        "                len_to_center.append(((annotation1[0] - annotation2[0]) ** 2 + (annotation1[1] - annotation2[1]) ** 2) ** 0.5)\n",
        "            del_i = len_to_center.index(min(len_to_center))\n",
        "            del annotations2[del_i]\n",
        "            del center_annotation2[del_i]\n",
        "        if len(center_annotation2) != 1:\n",
        "            continue\n",
        "        annotation = annotations2[0]\n",
        "\n",
        "    action_frame_row = pd.Series([frame_i, action if action < 10 else action - 10, annotation[0], annotation[1], annotation[2], annotation[3]], index=cb_train_door_df.columns)\n",
        "    cb_train_door_df = cb_train_door_df.append(action_frame_row, ignore_index=True)\n",
        "    #print(from_frame_i, human_i)\n",
        "\n",
        "\n",
        "    #print(action, n_people)\n",
        "    n_people.extend([0] * (max_n_people - len(n_people)))\n",
        "    train_row = pd.Series(n_people + [int(action > 10)], index=cb_train_action_df.columns)\n",
        "    cb_train_action_df = cb_train_action_df.append(train_row, ignore_index=True)\n",
        "    #if not all([elem == 1 for elem in n_people]):\n",
        "    #    print(n_people)"
      ]
    },
    {
      "cell_type": "code",
      "source": [
        "x_train_action, x_test_action, y_train_action, y_test_action = train_test_split(cb_train_action_df.drop(columns=['label']), cb_train_action_df['label'], test_size=0.2)\n",
        "x_train_door, x_test_door, y_train_door, y_test_door = train_test_split(cb_train_door_df.drop(columns=['door', 'frame_i']), cb_train_door_df['door'], test_size=0.2)"
      ],
      "metadata": {
        "id": "xTId5Bk1tWPX"
      },
      "execution_count": null,
      "outputs": []
    },
    {
      "cell_type": "code",
      "source": [
        "train_dataset_action = cb.Pool(x_train_action, y_train_action)\n",
        "train_dataset_door = cb.Pool(x_train_door, y_train_door)"
      ],
      "metadata": {
        "id": "LGn3QqpGopBM"
      },
      "execution_count": null,
      "outputs": []
    },
    {
      "cell_type": "code",
      "source": [
        "eval_dataset_action = cb.Pool(x_test_action, y_test_action)\n",
        "eval_dataset_door = cb.Pool(x_test_door, y_test_door)"
      ],
      "metadata": {
        "id": "eslnb8wm274R"
      },
      "execution_count": null,
      "outputs": []
    },
    {
      "cell_type": "code",
      "source": [
        "model_action = cb.CatBoostClassifier(loss_function='Logloss', eval_metric='Recall', iterations=1000)\n",
        "model_door = cb.CatBoostClassifier(loss_function='MultiClass', eval_metric='Accuracy', iterations=1000)"
      ],
      "metadata": {
        "id": "PHAbCejRt2jQ"
      },
      "execution_count": null,
      "outputs": []
    },
    {
      "cell_type": "code",
      "source": [
        "model_action.fit(train_dataset_action)"
      ],
      "metadata": {
        "id": "x4TimoiF4TXw"
      },
      "execution_count": null,
      "outputs": []
    },
    {
      "cell_type": "code",
      "source": [
        "model_door.fit(train_dataset_door)"
      ],
      "metadata": {
        "id": "RAGojPBit-Wm"
      },
      "execution_count": null,
      "outputs": []
    },
    {
      "cell_type": "code",
      "source": [
        "pred = model_action.predict(x_test_action)\n",
        "(y_test_action == pred).mean()"
      ],
      "metadata": {
        "colab": {
          "base_uri": "https://localhost:8080/"
        },
        "id": "9ZBVD2Kh4hve",
        "outputId": "177cd633-8ee0-4f88-f13b-62eea3022f40"
      },
      "execution_count": null,
      "outputs": [
        {
          "output_type": "execute_result",
          "data": {
            "text/plain": [
              "0.9333333333333333"
            ]
          },
          "metadata": {},
          "execution_count": 131
        }
      ]
    },
    {
      "cell_type": "code",
      "source": [
        "pred = model_door.predict(x_test_door).flatten()\n",
        "(y_test_door == pred).mean()"
      ],
      "metadata": {
        "id": "EE9rn7eUuI52"
      },
      "execution_count": null,
      "outputs": []
    },
    {
      "cell_type": "code",
      "source": [
        "model_door.save_model(os.path.join(WORKING_DIR, 'model_door.cb'))\n",
        "model_action.save_model(os.path.join(WORKING_DIR, 'model_action.cb'))"
      ],
      "metadata": {
        "id": "UYVE_XaT4ydh"
      },
      "execution_count": null,
      "outputs": []
    },
    {
      "cell_type": "markdown",
      "source": [
        "# Предсказание дверей для тестовой выборки"
      ],
      "metadata": {
        "id": "Ovgest1Dzxyh"
      }
    },
    {
      "cell_type": "code",
      "source": [
        "model_action = cb.CatBoostClassifier()\n",
        "model_door = cb.CatBoostClassifier()"
      ],
      "metadata": {
        "id": "BB2DT1uL5Jmi"
      },
      "execution_count": null,
      "outputs": []
    },
    {
      "cell_type": "code",
      "source": [
        "model_door = model_door.load_model(os.path.join(WORKING_DIR, 'model_door.cb'))\n",
        "model_action = model_action.load_model(os.path.join(WORKING_DIR, 'model_action.cb'))"
      ],
      "metadata": {
        "id": "rKQ-eOYD4wAJ"
      },
      "execution_count": null,
      "outputs": []
    },
    {
      "cell_type": "code",
      "source": [
        "test_base_df['dataset'] = 'test/test_fast.mp4'"
      ],
      "metadata": {
        "id": "No1_dKpb_pA-"
      },
      "execution_count": null,
      "outputs": []
    },
    {
      "cell_type": "code",
      "source": [
        "max_n_people = 26\n",
        "actions = []\n",
        "for i in range(len(test_base_df)):\n",
        "    row = test_base_df.iloc[i]\n",
        "    dataset = row['dataset']\n",
        "    date = row['date']\n",
        "    actions.append(0)\n",
        "    if date not in frame_data[dataset].values():\n",
        "        continue\n",
        "    from_frame_i = min([frame_i for frame_i, date_ in frame_data[dataset].items() if date == date_])\n",
        "    if from_frame_i - 10 >= 0:\n",
        "        from_frame_i -= 10\n",
        "    else:\n",
        "        from_frame_i = 0\n",
        "    to_frame_i = max([frame_i for frame_i, date_ in frame_data[dataset].items() if date == date_]) + 5\n",
        "    if to_frame_i + 5 <= max(frame_data[dataset]):\n",
        "        to_frame_i += 5\n",
        "    else:\n",
        "        to_frame_i = max(frame_data[dataset])\n",
        "    n_people = []\n",
        "    for frame_i in range(from_frame_i, to_frame_i + 1):\n",
        "        if frame_i not in people_data[dataset]:\n",
        "            n_people.append(0)\n",
        "            continue\n",
        "        annotations = people_data[dataset][frame_i]\n",
        "        n_people.append(len(annotations))\n",
        "    n_people = n_people[:max_n_people]\n",
        "    for j in range(len(n_people) - 2):\n",
        "        if n_people[j] != n_people[j + 1] and n_people[j] == n_people[j + 2]:\n",
        "            n_people[j + 1] = n_people[j]\n",
        "    \n",
        "    predictig_n_people = n_people.copy()\n",
        "    predictig_n_people.extend([0] * (max_n_people - len(n_people)))\n",
        "    action = model_action.predict(predictig_n_people) * 10\n",
        "    \n",
        "    mid_i = len(n_people) // 2\n",
        "    if action == 10:\n",
        "        # список индексов, где появляется человек до центра\n",
        "        to_middle = []\n",
        "        for human_i in range(1, mid_i + 1):\n",
        "            if n_people[human_i] > n_people[human_i - 1]:\n",
        "                to_middle.append(human_i)\n",
        "        if not any(to_middle):\n",
        "            for human_i in range(mid_i + 1, len(n_people)):\n",
        "                if n_people[human_i] > n_people[human_i - 1]:\n",
        "                    to_middle.append(human_i)\n",
        "            if not any(to_middle):\n",
        "                continue\n",
        "            human_i = min(to_middle)\n",
        "        else:\n",
        "            human_i = max(to_middle)\n",
        "    else:\n",
        "        # список индексов, где исчезает за дверью человек до центра\n",
        "        to_middle = []\n",
        "        for human_i in range(mid_i + 1, len(n_people)):\n",
        "            if n_people[human_i] < n_people[human_i - 1]:\n",
        "                to_middle.append(human_i)\n",
        "        if not any(to_middle):\n",
        "            for human_i in range(1, mid_i + 1):\n",
        "                if n_people[human_i] < n_people[human_i - 1]:\n",
        "                    to_middle.append(human_i)\n",
        "            if not any(to_middle):\n",
        "                continue\n",
        "            human_i = max(to_middle)\n",
        "        else:\n",
        "            human_i = min(to_middle)\n",
        "    \n",
        "    cheking_n_people = n_people[human_i - 1:human_i + 1]\n",
        "    if abs(cheking_n_people[0] - cheking_n_people[1]) != 1:\n",
        "        continue\n",
        "    if 0 in cheking_n_people and 1 in cheking_n_people:\n",
        "        if action == 10:\n",
        "            frame_i = from_frame_i + human_i\n",
        "        else:\n",
        "            frame_i = from_frame_i + human_i - 1\n",
        "        annotation = people_data[dataset][frame_i][0]\n",
        "    else:\n",
        "        if action == 10:\n",
        "            frame_i = from_frame_i + human_i\n",
        "            annotations1 = people_data[dataset][frame_i - 1]\n",
        "            annotations2 = people_data[dataset][frame_i]\n",
        "        else:\n",
        "            frame_i = from_frame_i + human_i - 1\n",
        "            annotations1 = people_data[dataset][frame_i + 1]\n",
        "            annotations2 = people_data[dataset][frame_i]\n",
        "        center_annotation1 = [[annotation[0] + (annotation[2] - annotation[0]) // 2,\n",
        "                               annotation[1] + (annotation[3] - annotation[1]) // 2]\n",
        "                              for annotation in annotations1]\n",
        "        center_annotation2 = [[annotation[0] + (annotation[2] - annotation[0]) // 2,\n",
        "                               annotation[1] + (annotation[3] - annotation[1]) // 2]\n",
        "                              for annotation in annotations2]\n",
        "        for annotation1 in center_annotation1:\n",
        "            len_to_center = []\n",
        "            for annotation2 in center_annotation2:\n",
        "                len_to_center.append(((annotation1[0] - annotation2[0]) ** 2 + (annotation1[1] - annotation2[1]) ** 2) ** 0.5)\n",
        "            del_i = len_to_center.index(min(len_to_center))\n",
        "            del annotations2[del_i]\n",
        "            del center_annotation2[del_i]\n",
        "        if len(center_annotation2) != 1:\n",
        "            continue\n",
        "        annotation = annotations2[0]\n",
        "    \n",
        "    action += int(model_door.predict(annotation))\n",
        "    actions[-1] = action"
      ],
      "metadata": {
        "id": "YoM-srcB5tw2"
      },
      "execution_count": null,
      "outputs": []
    },
    {
      "cell_type": "code",
      "source": [
        "test_base_df['action'] = actions\n",
        "test_base_df['employee'] = 0"
      ],
      "metadata": {
        "id": "HLrOu0Ln-Hpn"
      },
      "execution_count": null,
      "outputs": []
    },
    {
      "cell_type": "code",
      "source": [
        "for n in range(1, 10):\n",
        "    value_counts = train_base_df[train_base_df['action'].isin([n, n + 10])]['employee'].value_counts()\n",
        "    if not any(value_counts.index):\n",
        "        continue\n",
        "    max_employee = value_counts.index[0]\n",
        "    test_base_df.loc[test_base_df['action'].isin([n, n + 10]), 'employee'] = max_employee"
      ],
      "metadata": {
        "id": "RdnM7zePvabD"
      },
      "execution_count": null,
      "outputs": []
    },
    {
      "cell_type": "code",
      "source": [
        "test_base_df.drop(columns=['dataset', 'date']).to_csv('out.csv', index=False)"
      ],
      "metadata": {
        "id": "vizITy95BJUG"
      },
      "execution_count": null,
      "outputs": []
    }
  ],
  "metadata": {
    "colab": {
      "collapsed_sections": [
        "jq72qkNkpDi5",
        "vWjBnm25I7Rx",
        "F1yXKpoM6KCL",
        "n0a7cdb3uRmq",
        "3Kbc_bi1DcFO",
        "R9p6UKTjDerf",
        "H5-NZTdPDwfk",
        "QSAytVT1Exg6"
      ],
      "provenance": []
    },
    "gpuClass": "standard",
    "kernelspec": {
      "display_name": "Python 3 (ipykernel)",
      "language": "python",
      "name": "python3"
    },
    "language_info": {
      "codemirror_mode": {
        "name": "ipython",
        "version": 3
      },
      "file_extension": ".py",
      "mimetype": "text/x-python",
      "name": "python",
      "nbconvert_exporter": "python",
      "pygments_lexer": "ipython3",
      "version": "3.10.3"
    }
  },
  "nbformat": 4,
  "nbformat_minor": 0
}